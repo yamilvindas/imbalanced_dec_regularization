{
 "cells": [
  {
   "cell_type": "markdown",
   "metadata": {},
   "source": [
    "# Deep Embedded Clustering analysis using Pytorch Codes"
   ]
  },
  {
   "cell_type": "markdown",
   "metadata": {},
   "source": [
    "The objective of this notebook is to study the influence of the DEC hyperparameters, $\\gamma$ and $e_{init}$, using a simple synthetic 3D dataset, where the classes are imbalanced and two of the classes are nonlinearly separable."
   ]
  },
  {
   "cell_type": "code",
   "execution_count": 1,
   "metadata": {},
   "outputs": [],
   "source": [
    "import os\n",
    "import pickle\n",
    "import random\n",
    "import numpy as np\n",
    "import matplotlib as mpl\n",
    "import matplotlib.pyplot as plt\n",
    "import torch\n",
    "from src.experiments.train_single_model import TrainSingleModel\n",
    "from src.utils.tools import get_mean_metrics"
   ]
  },
  {
   "cell_type": "code",
   "execution_count": 2,
   "metadata": {},
   "outputs": [],
   "source": [
    "mpl.rcParams['figure.figsize'] = (20, 10) # To increase the size of the plots\n",
    "\n",
    "#======================================================================#\n",
    "#======================================================================#\n",
    "# Defining the plot\n",
    "params = {'axes.labelsize': 35,\n",
    "          'axes.titlesize': 35}\n",
    "plt.rcParams.update(params)\n",
    "axisTickSize = 30\n",
    "legendFontSize = 25"
   ]
  },
  {
   "cell_type": "code",
   "execution_count": 3,
   "metadata": {},
   "outputs": [
    {
     "data": {
      "text/plain": [
       "<torch._C.Generator at 0x7f76775df850>"
      ]
     },
     "execution_count": 3,
     "metadata": {},
     "output_type": "execute_result"
    }
   ],
   "source": [
    "# Fixing the random seed\n",
    "random.seed(42)\n",
    "np.random.seed(42)\n",
    "torch.manual_seed(42)"
   ]
  },
  {
   "cell_type": "code",
   "execution_count": 4,
   "metadata": {},
   "outputs": [],
   "source": [
    "# Boolean to study hyperparameters (if false it uses pre-computed results)\n",
    "study_hyperparams = True\n",
    "#study_hyperparams = False"
   ]
  },
  {
   "cell_type": "markdown",
   "metadata": {},
   "source": [
    "## I) Definition of the main parameters of the experiment"
   ]
  },
  {
   "cell_type": "code",
   "execution_count": 5,
   "metadata": {},
   "outputs": [],
   "source": [
    "# Parameters of the experiment variable \n",
    "base_parameters_exp = {}\n",
    "\n",
    "# Dataset to use\n",
    "base_parameters_exp['dataset_type'] = 'imbalanced_mixed'\n",
    "\n",
    "# Use DEC\n",
    "base_parameters_exp['use_dec'] = True\n",
    "\n",
    "# Number of repetitions\n",
    "#base_parameters_exp['nb_repetitions'] = 10\n",
    "base_parameters_exp['nb_repetitions'] = 2\n",
    "\n",
    "# Batch size\n",
    "base_parameters_exp['batch_size'] = 32\n",
    "\n",
    "# Epochs\n",
    "base_parameters_exp['nb_epochs'] = 50 \n",
    "\n",
    "# Learning rate\n",
    "base_parameters_exp['lr'] = 5e-2 \n",
    "    "
   ]
  },
  {
   "cell_type": "markdown",
   "metadata": {},
   "source": [
    "## II) Study of the hyperparameters $\\gamma$ and $e_{init}$"
   ]
  },
  {
   "cell_type": "code",
   "execution_count": 6,
   "metadata": {},
   "outputs": [
    {
     "name": "stdout",
     "output_type": "stream",
     "text": [
      "=======> Starting the LOADING study of the influence of the hyperparameters <=======\n",
      "=======> Finishing the LOADING study of the influence of the hyperparameters <=======\n"
     ]
    }
   ],
   "source": [
    "# Hyperparameters to explore\n",
    "# e_init\n",
    "vals_epoch_init_dec_loss = [0, 1, 5, 10, 20, int(epochs/2.)]\n",
    "# Gamma\n",
    "vals_importance_dec = [10, 7, 5, 3, 1, 0.7, 0.5, 0.3, 0.1, 0.01, 0.001, 0.0001]\n",
    "\n",
    "# Variable to store the results \n",
    "results_combination_hyperparams = {}\n",
    "\n",
    "if (study_hyperparams):\n",
    "    print(\"=======> Starting the study of the influence of the hyperparameters <=======\")\n",
    "    # Exploring the different combinations\n",
    "    for importance_dec in vals_importance_dec:\n",
    "        for epoch_init_dec_loss in vals_epoch_init_dec_loss:\n",
    "            print(\"\\t\\t=======> Using (importance_dec, epoch_init_dec_loss) = ({}, {})\".format(importance_dec, epoch_init_dec_loss)) \n",
    "            # Fixing the random seed\n",
    "            random.seed(42)\n",
    "            np.random.seed(42)\n",
    "            torch.manual_seed(42)\n",
    "            \n",
    "            # Adding the DEC hyperparameters to the list of parameters of the experiment\n",
    "            base_parameters_exp['importance_dec'] = importance_dec\n",
    "            base_parameters_exp['epoch_init_dec_loss'] = epoch_init_dec_loss\n",
    "            \n",
    "            # Creation of an instance of the sub-experiment\n",
    "            single_train_exp = TrainSingleModel(base_parameters_exp)\n",
    "\n",
    "            # Training the model\n",
    "            single_train_exp.repeatedHoldout()\n",
    "\n",
    "            # Storing the results\n",
    "            results_combination_hyperparams[(importance_dec, epoch_init_dec_loss)] = {\n",
    "                                                                                            'LossVals_PerRep': single_train_exp.list_loss_values,\n",
    "                                                                                            'LastEpochMetrics_PerRep': single_train_exp.list_last_epoch_metrics\n",
    "                                                                                       }\n",
    "\n",
    "    # Saving the final results\n",
    "    inc = 0\n",
    "    res_file_name = '../../results/Experiment_2/res_exp_hyperparams_'\n",
    "    os.path.exists(res_file_name + str(inc) + '.pth')\n",
    "    while (os.path.exists(res_file_name + str(inc) + '.pth')):\n",
    "        inc += 1\n",
    "    res_file_name = res_file_name + str(inc) + '.pth'\n",
    "    with open(res_file_name, \"wb\") as fp:\n",
    "        pickle.dump(results_combination_hyperparams, fp)\n",
    "    print(\"=======> Finishing the study of the influence of the hyperparameters <=======\")\n",
    "else:\n",
    "    print(\"=======> Starting the LOADING study of the influence of the hyperparameters <=======\")\n",
    "    # Opening the results file \n",
    "    res_file_name = '../../results/Experiment_2/res_exp_hyperparams_0.pth'\n",
    "    with open(res_file_name, \"rb\") as pf:\n",
    "        results_combination_hyperparams = pickle.load(pf)\n",
    "    print(\"=======> Finishing the LOADING study of the influence of the hyperparameters <=======\")"
   ]
  },
  {
   "cell_type": "code",
   "execution_count": 8,
   "metadata": {},
   "outputs": [
    {
     "name": "stderr",
     "output_type": "stream",
     "text": [
      "No artists with labels found to put in legend.  Note that artists whose label start with an underscore are ignored when legend() is called with no argument.\n"
     ]
    },
    {
     "name": "stdout",
     "output_type": "stream",
     "text": [
      "For combination (e_init, γ) = (10, 1) we have: \n",
      "\tTest MCC: 93.65469169516807 +- 0.5997202858738782\n",
      "For combination (e_init, γ) = (1, 1) we have: \n",
      "\tTest MCC: 93.74902825404546 +- 0.7669307623040023\n",
      "For combination (e_init, γ) = (10, 5) we have: \n",
      "\tTest MCC: 93.51045356326478 +- 0.7516751253772602\n",
      "For combination (e_init, γ) = (1, 5) we have: \n",
      "\tTest MCC: 92.7154000906435 +- 0.28897069192757585\n"
     ]
    },
    {
     "data": {
      "image/png": "[encoded data removed]",
      "text/plain": [
       "<Figure size 432x288 with 2 Axes>"
      ]
     },
     "metadata": {
      "needs_background": "light"
     },
     "output_type": "display_data"
    }
   ],
   "source": [
    "# Plotting a matrix to show the MCC based on importance_dec and e_init (as in Lueks et al. paper about\n",
    "# local quality)\n",
    "\n",
    "# Getting the MCC values\n",
    "mcc_matrix = np.zeros((len(vals_epoch_init_dec_loss), len(vals_importance_dec)))\n",
    "for epoch_init_dec_loss_ID in range(len(vals_epoch_init_dec_loss)):\n",
    "    for importance_dec_ID in range(len(vals_importance_dec)):\n",
    "        # Getting the values of epoch_init_dec_loss and importance_dec\n",
    "        epoch_init_dec_loss = vals_epoch_init_dec_loss[epoch_init_dec_loss_ID]\n",
    "        importance_dec = vals_importance_dec[importance_dec_ID]\n",
    "        \n",
    "        # Getting the results for that combination of hyperparams\n",
    "        results_one_combination = results_combination_hyperparams[(importance_dec, epoch_init_dec_loss)]\n",
    "        \n",
    "        # Getting the metrics for that combination\n",
    "        print(\"For combination (e_init, \\u03B3) = ({}, {}) we have: \".format(importance_dec, epoch_init_dec_loss))\n",
    "        mean_last_mcc, std_last_mcc = get_mean_metrics(results_one_combination['LastEpochMetrics_PerRep'], metric_type='MCC')\n",
    "        \n",
    "        # Adding the values to the MCC dict\n",
    "        mcc_matrix[epoch_init_dec_loss_ID, importance_dec_ID] = mean_last_mcc\n",
    "\n",
    "            \n",
    "# Doing the plot\n",
    "fig, ax = plt.subplots()\n",
    "psm = ax.pcolormesh(mcc_matrix, cmap='gist_gray')\n",
    "cbar = fig.colorbar(psm, ax=ax)\n",
    "plt.xlabel(\"\\u03B3\")\n",
    "plt.ylabel(\"e\\N{LATIN SUBSCRIPT SMALL LETTER I}\\N{LATIN SUBSCRIPT SMALL LETTER N}\\N{LATIN SUBSCRIPT SMALL LETTER I}\\N{LATIN SUBSCRIPT SMALL LETTER T} (in epochs)\")\n",
    "plt.xticks([i for i in range(len(vals_importance_dec))], vals_importance_dec, fontsize=axisTickSize)\n",
    "plt.yticks([i for i in range(len(vals_epoch_init_dec_loss))], vals_epoch_init_dec_loss, fontsize=axisTickSize)\n",
    "plt.gca().invert_yaxis()\n",
    "plt.legend(fontsize=legendFontSize)\n",
    "cbar.ax.tick_params(labelsize=legendFontSize)\n",
    "plt.show()\n",
    "            "
   ]
  },
  {
   "cell_type": "code",
   "execution_count": 9,
   "metadata": {},
   "outputs": [
    {
     "name": "stdout",
     "output_type": "stream",
     "text": [
      "For combination (e_init, γ) = (10, 1) we have: \n",
      "\tTest MCC: 93.65469169516807 +- 0.5997202858738782\n",
      "For combination (e_init, γ) = (1, 1) we have: \n",
      "\tTest MCC: 93.74902825404546 +- 0.7669307623040023\n",
      "For combination (e_init, γ) = (10, 5) we have: \n",
      "\tTest MCC: 93.51045356326478 +- 0.7516751253772602\n",
      "For combination (e_init, γ) = (1, 5) we have: \n",
      "\tTest MCC: 92.7154000906435 +- 0.28897069192757585\n"
     ]
    },
    {
     "data": {
      "image/png": "[encoded data removed]",
      "text/plain": [
       "<Figure size 432x288 with 1 Axes>"
      ]
     },
     "metadata": {
      "needs_background": "light"
     },
     "output_type": "display_data"
    }
   ],
   "source": [
    "# Plotting a curve of the MCC as a function of importance_dec\n",
    "mcc_for_fixed_importance_dec = {}\n",
    "for epoch_init_dec_loss in vals_epoch_init_dec_loss:\n",
    "    for importance_dec in vals_importance_dec:\n",
    "        # Getting the results for that combination of hyperparams\n",
    "        results_one_combination = results_combination_hyperparams[(importance_dec, epoch_init_dec_loss)]\n",
    "        \n",
    "        # Getting the metrics for that combination\n",
    "        print(\"For combination (e_init, \\u03B3) = ({}, {}) we have: \".format(importance_dec, epoch_init_dec_loss))\n",
    "        mean_last_mcc, std_last_mcc = get_mean_metrics(results_one_combination['LastEpochMetrics_PerRep'], metric_type='MCC')\n",
    "        \n",
    "        \n",
    "        # Plotting the curves\n",
    "        if (epoch_init_dec_loss) not in mcc_for_fixed_importance_dec:\n",
    "            mcc_for_fixed_importance_dec[epoch_init_dec_loss] = {\n",
    "                                                                    'MCCMeans': [mean_last_mcc],\n",
    "                                                                    'MCCStds': [std_last_mcc],\n",
    "                                                                    'ImportanceDEC': [importance_dec]\n",
    "                                                                }\n",
    "        else:\n",
    "            mcc_for_fixed_importance_dec[epoch_init_dec_loss]['MCCMeans'].append(mean_last_mcc)\n",
    "            mcc_for_fixed_importance_dec[epoch_init_dec_loss]['MCCStds'].append(std_last_mcc)\n",
    "            mcc_for_fixed_importance_dec[epoch_init_dec_loss]['ImportanceDEC'].append(importance_dec)\n",
    "\n",
    "# Doing the plot\n",
    "plt.figure()\n",
    "for epoch_init_dec_loss in mcc_for_fixed_importance_dec:\n",
    "    x = mcc_for_fixed_importance_dec[epoch_init_dec_loss]['ImportanceDEC']\n",
    "    y = mcc_for_fixed_importance_dec[epoch_init_dec_loss]['MCCMeans']\n",
    "    yerr = mcc_for_fixed_importance_dec[epoch_init_dec_loss]['MCCStds']\n",
    "    e_init_str = \"e\\N{LATIN SUBSCRIPT SMALL LETTER I}\\N{LATIN SUBSCRIPT SMALL LETTER N}\\N{LATIN SUBSCRIPT SMALL LETTER I}\\N{LATIN SUBSCRIPT SMALL LETTER T}\"\n",
    "    plt.errorbar(x=x, y=y, yerr=yerr, label=\"{} = {}\".format(e_init_str, epoch_init_dec_loss))\n",
    "plt.xticks(fontsize=axisTickSize)\n",
    "plt.yticks(fontsize=axisTickSize)\n",
    "plt.title(\"MCC as a function of importance_dec\")\n",
    "plt.xlabel(\"\\u03B3\")\n",
    "plt.ylabel(\"MCC\")\n",
    "plt.legend(fontsize=legendFontSize)\n",
    "plt.show()"
   ]
  },
  {
   "cell_type": "code",
   "execution_count": null,
   "metadata": {},
   "outputs": [],
   "source": [
    "def plot_box_plots_by_importance_DEC(\n",
    "                                        results_combination_hyperparams,\n",
    "                                        vals_importance_dec,\n",
    "                                        vals_epoch_init_dec_loss,\n",
    "                                        sub_exps_colors=None,\n",
    "                                      ):\n",
    "    # Getting the repetitions of the last epoch\n",
    "    last_epoch_metrics_dict = {}\n",
    "    for importance_dec in vals_importance_dec:\n",
    "        last_epoch_metrics_dict[importance_dec] = {}\n",
    "        for epoch_init_dec_loss in vals_epoch_init_dec_loss:\n",
    "            # Getting the last epoch metrics for that combination of hyperparams\n",
    "            repetitions_last_epoch_metrics = results_combination_hyperparams[(importance_dec, epoch_init_dec_loss)]['LastEpochMetrics_PerRep']\n",
    "    \n",
    "            # Getting the metrics\n",
    "            # MCC\n",
    "            mcc_dict = {\n",
    "                            'Train': [repetitions_last_epoch_metrics[i]['Train']['MCC'] for i in range(nb_repetitions)],\n",
    "                            'Test': [repetitions_last_epoch_metrics[i]['Test']['MCC'] for i in range(nb_repetitions)]\n",
    "                        }\n",
    "            # F1-Score\n",
    "            f1_score_dict = {\n",
    "                            'Train': [repetitions_last_epoch_metrics[i]['Train']['F1-Score'] for i in range(nb_repetitions)],\n",
    "                            'Test': [repetitions_last_epoch_metrics[i]['Test']['F1-Score'] for i in range(nb_repetitions)]\n",
    "                        }\n",
    "            # Accuracy\n",
    "            acc_dict = {\n",
    "                            'Train': [repetitions_last_epoch_metrics[i]['Train']['Accuracy'] for i in range(nb_repetitions)],\n",
    "                            'Test': [repetitions_last_epoch_metrics[i]['Test']['Accuracy'] for i in range(nb_repetitions)]\n",
    "                        }\n",
    "            \n",
    "            # Adding the metrics to the dictionary of the metrics of the last epoch \n",
    "            last_epoch_metrics_dict[importance_dec][epoch_init_dec_loss] = {\n",
    "                                                                                'MCC': mcc_dict,\n",
    "                                                                                'F1Score': f1_score_dict,\n",
    "                                                                                'Accuracy': acc_dict\n",
    "                                                                            }\n",
    "    \n",
    "    # Boxplot parameters\n",
    "    exp_box_plot_offset_step = 5\n",
    "    sub_exp_box_plot_offset_step = 0.7\n",
    "    boxprops = dict(linestyle='--', linewidth=2.5)\n",
    "    whiskerprops = dict(linestyle='-', linewidth=2.5)\n",
    "    flierprops = dict(marker='o', markersize=12)\n",
    "    medianprops = dict(linestyle='-', linewidth=2.0)\n",
    "    meanprops = dict(marker='D', markeredgecolor='black', markerfacecolor='firebrick')\n",
    "    \n",
    "    # Creating the plotting boxes\n",
    "    fig = plt.figure()\n",
    "    exp_box_plot_offset = 0\n",
    "    epoch_to_use = -1\n",
    "    for importance_dec in last_epoch_metrics_dict:\n",
    "        sub_exp_box_plot_offset = exp_box_plot_offset\n",
    "        is_named_position = False\n",
    "        for epoch_init_dec_loss in last_epoch_metrics_dict[importance_dec]:\n",
    "            if (sub_exps_colors is None):\n",
    "                c = 'xkcd:blue'\n",
    "            else:\n",
    "                c = sub_exps_colors[epoch_init_dec_loss]\n",
    "            plt.xlabel(\"\\u03B3\")\n",
    "            plt.ylabel(\"MCC in %\")\n",
    "            plt.xticks(fontsize=axisTickSize)\n",
    "            plt.yticks(fontsize=axisTickSize)\n",
    "            plt.title(\"MCC as a function of importance_dec\")\n",
    "            data_bp = last_epoch_metrics_dict[importance_dec][epoch_init_dec_loss]['MCC']['Test']\n",
    "            if (is_named_position == False):\n",
    "                labelExp = importance_dec\n",
    "                is_named_position = True\n",
    "            else:\n",
    "                labelExp = \"\"\n",
    "            bpl = plt.boxplot(\n",
    "                                data_bp,\\\n",
    "                                positions=[sub_exp_box_plot_offset],\\\n",
    "                                sym='o',\\\n",
    "                                widths=0.5,\\\n",
    "                                labels=[labelExp],\\\n",
    "                                showmeans=True,\\\n",
    "                                notch=True,\\\n",
    "                                boxprops=boxprops,\\\n",
    "                                flierprops=flierprops,\\\n",
    "                                whiskerprops=whiskerprops,\\\n",
    "                                medianprops=medianprops,\\\n",
    "                                meanprops=meanprops\n",
    "                            )\n",
    "            plt.setp(bpl['boxes'], color=c)\n",
    "            plt.setp(bpl['whiskers'], color=c)\n",
    "            plt.setp(bpl['caps'], color=c)\n",
    "            plt.setp(bpl['medians'], color=c)\n",
    "            \n",
    "            sub_exp_box_plot_offset += sub_exp_box_plot_offset_step\n",
    "            \n",
    "\n",
    "        exp_box_plot_offset += exp_box_plot_offset_step\n",
    "        \n",
    "    # Legend\n",
    "    plt.legend(fontsize=legendFontSize)\n",
    "    plt.grid()\n",
    "    # Show\n",
    "    plt.show()\n",
    "    \n",
    "# Sub-exps colors\n",
    "sub_exps_colors = {\n",
    "                        0: \"xkcd:teal\",\n",
    "                        1: \"xkcd:blue\",\n",
    "                        5: \"xkcd:orange\",\n",
    "                        10: \"xkcd:green\",\n",
    "                        20: \"xkcd:red\",\n",
    "                        int(epochs/2.): \"xkcd:purple\",\n",
    "                  }\n",
    "    \n",
    "# Doing the box plot\n",
    "plot_box_plots_by_importance_DEC(\n",
    "                                        results_combination_hyperparams,\n",
    "                                        vals_importance_dec,\n",
    "                                        vals_epoch_init_dec_loss,\n",
    "                                        sub_exps_colors=sub_exps_colors,\n",
    "                                      )"
   ]
  },
  {
   "cell_type": "code",
   "execution_count": 10,
   "metadata": {},
   "outputs": [
    {
     "name": "stdout",
     "output_type": "stream",
     "text": [
      "For combination (e_init, γ) = (10, 1) we have: \n",
      "\tTest MCC: 93.65469169516807 +- 0.5997202858738782\n",
      "For combination (e_init, γ) = (10, 5) we have: \n",
      "\tTest MCC: 93.51045356326478 +- 0.7516751253772602\n",
      "For combination (e_init, γ) = (1, 1) we have: \n",
      "\tTest MCC: 93.74902825404546 +- 0.7669307623040023\n",
      "For combination (e_init, γ) = (1, 5) we have: \n",
      "\tTest MCC: 92.7154000906435 +- 0.28897069192757585\n"
     ]
    },
    {
     "data": {
      "image/png": "[encoded data removed]",
      "text/plain": [
       "<Figure size 432x288 with 1 Axes>"
      ]
     },
     "metadata": {
      "needs_background": "light"
     },
     "output_type": "display_data"
    }
   ],
   "source": [
    "# Plotting a curve of the MCC as a function of epoch_init_dec_loss\n",
    "mcc_for_fixed_epoch_init_dec_loss = {}\n",
    "for importance_dec in vals_importance_dec:\n",
    "    for epoch_init_dec_loss in vals_epoch_init_dec_loss:\n",
    "        # Getting the results for that combination of hyperparams\n",
    "        results_one_combination = results_combination_hyperparams[(importance_dec, epoch_init_dec_loss)]\n",
    "        \n",
    "        # Getting the metrics for that combination\n",
    "        print(\"For combination (e_init, \\u03B3) = ({}, {}) we have: \".format(importance_dec, epoch_init_dec_loss))\n",
    "        mean_last_mcc, std_last_mcc = get_mean_metrics(results_one_combination['LastEpochMetrics_PerRep'], metric_type='MCC')\n",
    "        \n",
    "        \n",
    "        # Plotting the curves\n",
    "        if (importance_dec not in mcc_for_fixed_epoch_init_dec_loss):\n",
    "            mcc_for_fixed_epoch_init_dec_loss[importance_dec] = {\n",
    "                                                                    'MCCMeans': [mean_last_mcc],\n",
    "                                                                    'MCCStds': [std_last_mcc],\n",
    "                                                                    'EpochInitDECLoss': [epoch_init_dec_loss]\n",
    "                                                                }\n",
    "        else:\n",
    "            mcc_for_fixed_epoch_init_dec_loss[importance_dec]['MCCMeans'].append(mean_last_mcc)\n",
    "            mcc_for_fixed_epoch_init_dec_loss[importance_dec]['MCCStds'].append(std_last_mcc)\n",
    "            mcc_for_fixed_epoch_init_dec_loss[importance_dec]['EpochInitDECLoss'].append(epoch_init_dec_loss)\n",
    "\n",
    "# Doing the plot\n",
    "plt.figure()\n",
    "for importance_dec in mcc_for_fixed_epoch_init_dec_loss:\n",
    "    x = mcc_for_fixed_epoch_init_dec_loss[importance_dec]['EpochInitDECLoss']\n",
    "    y = mcc_for_fixed_epoch_init_dec_loss[importance_dec]['MCCMeans']\n",
    "    yerr = mcc_for_fixed_epoch_init_dec_loss[importance_dec]['MCCStds']\n",
    "    plt.errorbar(x=x, y=y, yerr=yerr, label=\"\\u03B3 = {}\".format(importance_dec))\n",
    "plt.title(\"MCC as a function of epoch_init_dec_loss\")\n",
    "plt.xlabel(\"e\\N{LATIN SUBSCRIPT SMALL LETTER I}\\N{LATIN SUBSCRIPT SMALL LETTER N}\\N{LATIN SUBSCRIPT SMALL LETTER I}\\N{LATIN SUBSCRIPT SMALL LETTER T}\")\n",
    "plt.ylabel(\"MCC\")\n",
    "plt.xticks(fontsize=axisTickSize)\n",
    "plt.yticks(fontsize=axisTickSize)\n",
    "plt.legend(fontsize=legendFontSize)\n",
    "plt.show()"
   ]
  },
  {
   "cell_type": "code",
   "execution_count": null,
   "metadata": {},
   "outputs": [],
   "source": []
  }
 ],
 "metadata": {
  "kernelspec": {
   "display_name": "Python 3",
   "language": "python",
   "name": "python3"
  },
  "language_info": {
   "codemirror_mode": {
    "name": "ipython",
    "version": 3
   },
   "file_extension": ".py",
   "mimetype": "text/x-python",
   "name": "python",
   "nbconvert_exporter": "python",
   "pygments_lexer": "ipython3",
   "version": "3.8.10"
  }
 },
 "nbformat": 4,
 "nbformat_minor": 4
}
